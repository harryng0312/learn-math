{
 "cells": [
  {
   "metadata": {},
   "cell_type": "markdown",
   "source": [
    "# This is a sample Jupyter Notebook\n",
    "\n",
    "Below is an example of a code cell. \n",
    "Put your cursor into the cell and press Shift+Enter to execute it and select the next one, or click !here goes the icon of the corresponding button in the gutter! button.\n",
    "To debug a cell, press Alt+Shift+Enter, or click !here goes the icon of the corresponding button in the gutter! button.\n",
    "\n",
    "Press Double Shift to search everywhere for classes, files, tool windows, actions, and settings.\n",
    "\n",
    "To learn more about Jupyter Notebooks in PyCharm, see [help](https://www.jetbrains.com/help/pycharm/jupyter-notebook-support.html).\n",
    "For an overview of PyCharm, go to Help -> Learn IDE features or refer to [our documentation](https://www.jetbrains.com/help/pycharm/getting-started.html)."
   ],
   "id": "8a77807f92f26ee"
  },
  {
   "metadata": {
    "ExecuteTime": {
     "end_time": "2024-07-27T17:56:43.747340Z",
     "start_time": "2024-07-27T17:56:43.633790Z"
    }
   },
   "cell_type": "code",
   "source": "import numpy as np",
   "id": "fbc121e30a2defb3",
   "outputs": [],
   "execution_count": 2
  },
  {
   "metadata": {
    "ExecuteTime": {
     "end_time": "2024-07-27T18:38:27.449572Z",
     "start_time": "2024-07-27T18:38:27.446478Z"
    }
   },
   "cell_type": "code",
   "source": [
    "m_t = np.array([[1,2, 4],\n",
    "               [3,-1, 5],\n",
    "                [-4,-3, -11]])\n",
    "np.linalg.matrix_rank(m_t)"
   ],
   "id": "4da283fcaab3431e",
   "outputs": [
    {
     "data": {
      "text/plain": [
       "2"
      ]
     },
     "execution_count": 12,
     "metadata": {},
     "output_type": "execute_result"
    }
   ],
   "execution_count": 12
  },
  {
   "metadata": {
    "ExecuteTime": {
     "end_time": "2024-07-27T18:02:54.152781Z",
     "start_time": "2024-07-27T18:02:54.148573Z"
    }
   },
   "cell_type": "code",
   "source": [
    "M = np.array([\n",
    "    [ 1, 0, 1],\n",
    "    [ 0, 1, 0],\n",
    "    [ 1, 1, 1]])\n",
    "N = np.array([\n",
    "    [ 2, 8, 7],\n",
    "    [ 4, 3, 9],\n",
    "    [ 1, 9, 5]])\n",
    "np.linalg.det(M)"
   ],
   "id": "3a202adf89fd1353",
   "outputs": [
    {
     "data": {
      "text/plain": [
       "0.0"
      ]
     },
     "execution_count": 6,
     "metadata": {},
     "output_type": "execute_result"
    }
   ],
   "execution_count": 6
  },
  {
   "metadata": {
    "ExecuteTime": {
     "end_time": "2024-07-27T18:35:46.240206Z",
     "start_time": "2024-07-27T18:35:46.236276Z"
    }
   },
   "cell_type": "code",
   "source": [
    "xmu = np.array([[-20, 20],\n",
    "              [-1, 1],\n",
    "              [0, 0]])\n",
    "cov_m = xmu.T @xmu\n",
    "1/2 * cov_m.T"
   ],
   "id": "17477c1dd576eff7",
   "outputs": [
    {
     "data": {
      "text/plain": [
       "array([[ 200.5, -200.5],\n",
       "       [-200.5,  200.5]])"
      ]
     },
     "execution_count": 11,
     "metadata": {},
     "output_type": "execute_result"
    }
   ],
   "execution_count": 11
  },
  {
   "metadata": {
    "ExecuteTime": {
     "end_time": "2024-07-27T18:46:57.494796Z",
     "start_time": "2024-07-27T18:46:57.490130Z"
    }
   },
   "cell_type": "code",
   "source": [
    "M = np.array([\n",
    "    [3, 2],\n",
    "    [5, 8]])\n",
    "mu = np.array([[4, 5],\n",
    "              [4, 5]])\n",
    "mmu = M-mu\n",
    "(mmu.T @ mmu)"
   ],
   "id": "445999d0dc652501",
   "outputs": [
    {
     "data": {
      "text/plain": [
       "array([[ 2,  6],\n",
       "       [ 6, 18]])"
      ]
     },
     "execution_count": 15,
     "metadata": {},
     "output_type": "execute_result"
    }
   ],
   "execution_count": 15
  },
  {
   "metadata": {},
   "cell_type": "code",
   "outputs": [],
   "execution_count": null,
   "source": "",
   "id": "73893b0cb7a3c4f2"
  }
 ],
 "metadata": {
  "kernelspec": {
   "display_name": "Python 3",
   "language": "python",
   "name": "python3"
  },
  "language_info": {
   "codemirror_mode": {
    "name": "ipython",
    "version": 2
   },
   "file_extension": ".py",
   "mimetype": "text/x-python",
   "name": "python",
   "nbconvert_exporter": "python",
   "pygments_lexer": "ipython2",
   "version": "2.7.6"
  }
 },
 "nbformat": 4,
 "nbformat_minor": 5
}
