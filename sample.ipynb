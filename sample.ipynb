{
 "cells": [
  {
   "metadata": {},
   "cell_type": "markdown",
   "source": [
    "# This is a sample Jupyter Notebook\n",
    "\n",
    "Below is an example of a code cell. \n",
    "Put your cursor into the cell and press Shift+Enter to execute it and select the next one, or click !here goes the icon of the corresponding button in the gutter! button.\n",
    "To debug a cell, press Alt+Shift+Enter, or click !here goes the icon of the corresponding button in the gutter! button.\n",
    "\n",
    "Press Double Shift to search everywhere for classes, files, tool windows, actions, and settings.\n",
    "\n",
    "To learn more about Jupyter Notebooks in PyCharm, see [help](https://www.jetbrains.com/help/pycharm/jupyter-notebook-support.html).\n",
    "For an overview of PyCharm, go to Help -> Learn IDE features or refer to [our documentation](https://www.jetbrains.com/help/pycharm/getting-started.html)."
   ],
   "id": "8a77807f92f26ee"
  },
  {
   "metadata": {
    "ExecuteTime": {
     "end_time": "2024-07-30T17:02:33.741052Z",
     "start_time": "2024-07-30T17:02:33.225919Z"
    }
   },
   "cell_type": "code",
   "source": [
    "import numpy as np\n",
    "import sympy as sp"
   ],
   "id": "fbc121e30a2defb3",
   "outputs": [],
   "execution_count": 1
  },
  {
   "metadata": {
    "ExecuteTime": {
     "end_time": "2024-07-29T14:23:43.719787Z",
     "start_time": "2024-07-29T14:23:43.714058Z"
    }
   },
   "cell_type": "code",
   "source": [
    "m_t = np.array([[1,2, 4],\n",
    "               [3,-1, 5],\n",
    "                [-4,-3, -11]])\n",
    "np.linalg.matrix_rank(m_t)"
   ],
   "id": "4da283fcaab3431e",
   "outputs": [
    {
     "data": {
      "text/plain": [
       "2"
      ]
     },
     "execution_count": 2,
     "metadata": {},
     "output_type": "execute_result"
    }
   ],
   "execution_count": 2
  },
  {
   "metadata": {},
   "cell_type": "code",
   "source": [
    "M = np.array([\n",
    "    [ 1, 0, 1],\n",
    "    [ 0, 1, 0],\n",
    "    [ 1, 1, 1]])\n",
    "N = np.array([\n",
    "    [ 2, 8, 7],\n",
    "    [ 4, 3, 9],\n",
    "    [ 1, 9, 5]])\n",
    "np.linalg.det(M)"
   ],
   "id": "3a202adf89fd1353",
   "outputs": [],
   "execution_count": null
  },
  {
   "metadata": {},
   "cell_type": "code",
   "source": [
    "xmu = np.array([[-20, 20],\n",
    "              [-1, 1],\n",
    "              [0, 0]])\n",
    "cov_m = xmu.T @xmu\n",
    "1/2 * cov_m.T"
   ],
   "id": "17477c1dd576eff7",
   "outputs": [],
   "execution_count": null
  },
  {
   "metadata": {},
   "cell_type": "code",
   "source": [
    "M = np.array([\n",
    "    [3, 2],\n",
    "    [5, 8]])\n",
    "mu = np.array([[4, 5],\n",
    "              [4, 5]])\n",
    "mmu = M-mu\n",
    "(mmu.T @ mmu)"
   ],
   "id": "445999d0dc652501",
   "outputs": [],
   "execution_count": null
  },
  {
   "metadata": {},
   "cell_type": "markdown",
   "source": "Add an SymPy function into NumPy",
   "id": "bd1bdac9bdbf85b1"
  },
  {
   "metadata": {
    "ExecuteTime": {
     "end_time": "2024-07-30T17:03:21.806623Z",
     "start_time": "2024-07-30T17:03:21.772801Z"
    }
   },
   "cell_type": "code",
   "source": [
    "x = sp.symbols('x')\n",
    "expr = sp.sin(x) + sp.cos(x)"
   ],
   "id": "73893b0cb7a3c4f2",
   "outputs": [],
   "execution_count": 2
  },
  {
   "metadata": {
    "ExecuteTime": {
     "end_time": "2024-07-30T17:04:20.383712Z",
     "start_time": "2024-07-30T17:04:20.373581Z"
    }
   },
   "cell_type": "code",
   "source": "f = sp.lambdify(x, expr, 'numpy')",
   "id": "7847d8569af67dbe",
   "outputs": [],
   "execution_count": 3
  },
  {
   "metadata": {
    "ExecuteTime": {
     "end_time": "2024-07-30T17:04:55.064327Z",
     "start_time": "2024-07-30T17:04:55.057343Z"
    }
   },
   "cell_type": "code",
   "source": [
    "x_values = np.linspace(0, 2 * np.pi, 100)\n",
    "y_values = f(x_values)\n",
    "y_values"
   ],
   "id": "79a0962dfb7a2c25",
   "outputs": [
    {
     "data": {
      "text/plain": [
       "array([ 1.        ,  1.0614106 ,  1.11854727,  1.17117994,  1.21909669,\n",
       "        1.26210456,  1.30003039,  1.33272145,  1.36004611,  1.38189435,\n",
       "        1.39817819,  1.40883205,  1.41381305,  1.41310112,  1.40669913,\n",
       "        1.39463286,  1.3769509 ,  1.35372444,  1.32504701,  1.29103408,\n",
       "        1.25182262,  1.2075705 ,  1.15845593,  1.10467666,  1.04644926,\n",
       "        0.98400816,  0.91760482,  0.8475066 ,  0.77399578,  0.69736834,\n",
       "        0.61793286,  0.53600917,  0.45192716,  0.3660254 ,  0.27864979,\n",
       "        0.19015215,  0.10088884,  0.01121928, -0.07849545, -0.16789411,\n",
       "       -0.25661672, -0.34430602, -0.43060893, -0.51517792, -0.59767248,\n",
       "       -0.67776042, -0.75511925, -0.82943749, -0.90041588, -0.96776861,\n",
       "       -1.03122448, -1.09052797, -1.14544028, -1.19574032, -1.24122553,\n",
       "       -1.28171276, -1.31703899, -1.34706197, -1.3716608 , -1.39073645,\n",
       "       -1.40421208, -1.41203345, -1.41416906, -1.41061031, -1.40137153,\n",
       "       -1.38648992, -1.3660254 , -1.34006039, -1.30869942, -1.27206878,\n",
       "       -1.23031597, -1.18360911, -1.13213628, -1.07610473, -1.01574009,\n",
       "       -0.95128542, -0.88300026, -0.81115958, -0.73605263, -0.65798187,\n",
       "       -0.57726164, -0.49421698, -0.40918229, -0.32249996, -0.23451904,\n",
       "       -0.1455938 , -0.0560823 ,  0.03365503,  0.12325683,  0.21236233,\n",
       "        0.30061272,  0.38765264,  0.47313163,  0.55670548,  0.63803767,\n",
       "        0.71680071,  0.79267745,  0.86536236,  0.93456276,  1.        ])"
      ]
     },
     "execution_count": 4,
     "metadata": {},
     "output_type": "execute_result"
    }
   ],
   "execution_count": 4
  },
  {
   "metadata": {},
   "cell_type": "code",
   "outputs": [],
   "execution_count": null,
   "source": "",
   "id": "f8da9bfeaee0692c"
  }
 ],
 "metadata": {
  "kernelspec": {
   "display_name": "Python 3",
   "language": "python",
   "name": "python3"
  },
  "language_info": {
   "codemirror_mode": {
    "name": "ipython",
    "version": 2
   },
   "file_extension": ".py",
   "mimetype": "text/x-python",
   "name": "python",
   "nbconvert_exporter": "python",
   "pygments_lexer": "ipython2",
   "version": "2.7.6"
  }
 },
 "nbformat": 4,
 "nbformat_minor": 5
}
