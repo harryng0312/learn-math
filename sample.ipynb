{
 "cells": [
  {
   "metadata": {},
   "cell_type": "markdown",
   "source": [
    "# This is a sample Jupyter Notebook\n",
    "\n",
    "Below is an example of a code cell. \n",
    "Put your cursor into the cell and press Shift+Enter to execute it and select the next one, or click !here goes the icon of the corresponding button in the gutter! button.\n",
    "To debug a cell, press Alt+Shift+Enter, or click !here goes the icon of the corresponding button in the gutter! button.\n",
    "\n",
    "Press Double Shift to search everywhere for classes, files, tool windows, actions, and settings.\n",
    "\n",
    "To learn more about Jupyter Notebooks in PyCharm, see [help](https://www.jetbrains.com/help/pycharm/jupyter-notebook-support.html).\n",
    "For an overview of PyCharm, go to Help -> Learn IDE features or refer to [our documentation](https://www.jetbrains.com/help/pycharm/getting-started.html)."
   ],
   "id": "8a77807f92f26ee"
  },
  {
   "metadata": {
    "ExecuteTime": {
     "end_time": "2024-07-30T17:06:28.344133Z",
     "start_time": "2024-07-30T17:06:28.069838Z"
    }
   },
   "cell_type": "code",
   "source": [
    "import numpy as np\n",
    "import sympy as sp\n",
    "import matplotlib.pyplot as plt"
   ],
   "id": "fbc121e30a2defb3",
   "outputs": [],
   "execution_count": 5
  },
  {
   "metadata": {
    "ExecuteTime": {
     "end_time": "2024-07-29T14:23:43.719787Z",
     "start_time": "2024-07-29T14:23:43.714058Z"
    }
   },
   "cell_type": "code",
   "source": [
    "m_t = np.array([[1,2, 4],\n",
    "               [3,-1, 5],\n",
    "                [-4,-3, -11]])\n",
    "np.linalg.matrix_rank(m_t)"
   ],
   "id": "4da283fcaab3431e",
   "outputs": [
    {
     "data": {
      "text/plain": [
       "2"
      ]
     },
     "execution_count": 2,
     "metadata": {},
     "output_type": "execute_result"
    }
   ],
   "execution_count": 2
  },
  {
   "metadata": {},
   "cell_type": "code",
   "source": [
    "M = np.array([\n",
    "    [ 1, 0, 1],\n",
    "    [ 0, 1, 0],\n",
    "    [ 1, 1, 1]])\n",
    "N = np.array([\n",
    "    [ 2, 8, 7],\n",
    "    [ 4, 3, 9],\n",
    "    [ 1, 9, 5]])\n",
    "np.linalg.det(M)"
   ],
   "id": "3a202adf89fd1353",
   "outputs": [],
   "execution_count": null
  },
  {
   "metadata": {},
   "cell_type": "code",
   "source": [
    "xmu = np.array([[-20, 20],\n",
    "              [-1, 1],\n",
    "              [0, 0]])\n",
    "cov_m = xmu.T @xmu\n",
    "1/2 * cov_m.T"
   ],
   "id": "17477c1dd576eff7",
   "outputs": [],
   "execution_count": null
  },
  {
   "metadata": {},
   "cell_type": "code",
   "source": [
    "M = np.array([\n",
    "    [3, 2],\n",
    "    [5, 8]])\n",
    "mu = np.array([[4, 5],\n",
    "              [4, 5]])\n",
    "mmu = M-mu\n",
    "(mmu.T @ mmu)"
   ],
   "id": "445999d0dc652501",
   "outputs": [],
   "execution_count": null
  },
  {
   "metadata": {},
   "cell_type": "markdown",
   "source": "Add an SymPy function into NumPy",
   "id": "bd1bdac9bdbf85b1"
  },
  {
   "metadata": {
    "ExecuteTime": {
     "end_time": "2024-07-30T17:15:30.018323Z",
     "start_time": "2024-07-30T17:15:30.013291Z"
    }
   },
   "cell_type": "code",
   "source": [
    "x = sp.symbols('x')\n",
    "expr = sp.sin(x)**2 + sp.cos(x)\n",
    "# print(f\"{sp.latex(expr)}\")\n",
    "expr"
   ],
   "id": "73893b0cb7a3c4f2",
   "outputs": [
    {
     "data": {
      "text/plain": [
       "sin(x)**2 + cos(x)"
      ],
      "text/latex": "$\\displaystyle \\sin^{2}{\\left(x \\right)} + \\cos{\\left(x \\right)}$"
     },
     "execution_count": 31,
     "metadata": {},
     "output_type": "execute_result"
    }
   ],
   "execution_count": 31
  },
  {
   "metadata": {
    "ExecuteTime": {
     "end_time": "2024-07-30T17:10:46.768818Z",
     "start_time": "2024-07-30T17:10:46.765020Z"
    }
   },
   "cell_type": "code",
   "source": "f = sp.lambdify(x, expr, 'numpy')",
   "id": "7847d8569af67dbe",
   "outputs": [],
   "execution_count": 17
  },
  {
   "metadata": {
    "ExecuteTime": {
     "end_time": "2024-07-30T17:17:42.845485Z",
     "start_time": "2024-07-30T17:17:42.834312Z"
    }
   },
   "cell_type": "code",
   "source": [
    "x_values = np.linspace(0, 2 * np.pi, 1_000)\n",
    "y_values = f(x_values)\n",
    "y_values"
   ],
   "id": "79a0962dfb7a2c25",
   "outputs": [
    {
     "data": {
      "text/plain": [
       "array([ 1.        ,  1.00001978,  1.00007911,  1.00017797,  1.00031634,\n",
       "        1.00049418,  1.00071144,  1.00096806,  1.00126397,  1.00159909,\n",
       "        1.00197331,  1.00238655,  1.00283868,  1.00332959,  1.00385912,\n",
       "        1.00442714,  1.00503349,  1.005678  ,  1.00636049,  1.00708077,\n",
       "        1.00783865,  1.00863389,  1.0094663 ,  1.01033563,  1.01124164,\n",
       "        1.01218409,  1.01316269,  1.01417719,  1.01522729,  1.01631271,\n",
       "        1.01743313,  1.01858824,  1.01977772,  1.02100123,  1.02225843,\n",
       "        1.02354896,  1.02487246,  1.02622855,  1.02761685,  1.02903696,\n",
       "        1.03048848,  1.031971  ,  1.03348409,  1.03502732,  1.03660026,\n",
       "        1.03820244,  1.03983342,  1.04149272,  1.04317986,  1.04489436,\n",
       "        1.04663572,  1.04840344,  1.050197  ,  1.05201589,  1.05385957,\n",
       "        1.05572751,  1.05761915,  1.05953395,  1.06147135,  1.06343076,\n",
       "        1.06541162,  1.06741333,  1.06943531,  1.07147695,  1.07353764,\n",
       "        1.07561676,  1.0777137 ,  1.07982782,  1.08195849,  1.08410505,\n",
       "        1.08626687,  1.08844327,  1.0906336 ,  1.09283718,  1.09505334,\n",
       "        1.0972814 ,  1.09952066,  1.10177043,  1.10403   ,  1.10629868,\n",
       "        1.10857574,  1.11086047,  1.11315215,  1.11545004,  1.11775342,\n",
       "        1.12006155,  1.12237367,  1.12468905,  1.12700693,  1.12932655,\n",
       "        1.13164715,  1.13396798,  1.13628824,  1.13860719,  1.14092402,\n",
       "        1.14323798,  1.14554826,  1.1478541 ,  1.15015468,  1.15244923,\n",
       "        1.15473694,  1.15701701,  1.15928865,  1.16155105,  1.1638034 ,\n",
       "        1.16604489,  1.16827472,  1.17049207,  1.17269612,  1.17488606,\n",
       "        1.17706108,  1.17922035,  1.18136306,  1.18348839,  1.1855955 ,\n",
       "        1.18768359,  1.18975182,  1.19179939,  1.19382545,  1.19582919,\n",
       "        1.19780979,  1.19976642,  1.20169826,  1.20360449,  1.20548429,\n",
       "        1.20733683,  1.2091613 ,  1.21095687,  1.21272274,  1.21445808,\n",
       "        1.21616209,  1.21783393,  1.21947282,  1.22107794,  1.22264848,\n",
       "        1.22418363,  1.22568261,  1.2271446 ,  1.22856881,  1.22995445,\n",
       "        1.23130073,  1.23260686,  1.23387205,  1.23509553,  1.23627653,\n",
       "        1.23741426,  1.23850796,  1.23955686,  1.24056021,  1.24151724,\n",
       "        1.24242722,  1.24328938,  1.24410299,  1.24486731,  1.2455816 ,\n",
       "        1.24624515,  1.24685723,  1.24741713,  1.24792412,  1.24837752,\n",
       "        1.24877662,  1.24912073,  1.24940916,  1.24964123,  1.24981627,\n",
       "        1.24993361,  1.2499926 ,  1.24999257,  1.24993288,  1.2498129 ,\n",
       "        1.24963199,  1.24938953,  1.24908489,  1.24871747,  1.24828667,\n",
       "        1.2477919 ,  1.24723256,  1.24660808,  1.24591789,  1.24516143,\n",
       "        1.24433814,  1.24344748,  1.24248892,  1.24146193,  1.24036599,\n",
       "        1.23920058,  1.23796522,  1.23665941,  1.23528267,  1.23383452,\n",
       "        1.23231451,  1.23072218,  1.22905709,  1.2273188 ,  1.22550689,\n",
       "        1.22362095,  1.22166058,  1.21962537,  1.21751496,  1.21532896,\n",
       "        1.21306701,  1.21072876,  1.20831388,  1.20582203,  1.20325289,\n",
       "        1.20060615,  1.19788152,  1.1950787 ,  1.19219744,  1.18923745,\n",
       "        1.18619848,  1.1830803 ,  1.17988268,  1.17660539,  1.17324823,\n",
       "        1.169811  ,  1.16629352,  1.16269561,  1.15901712,  1.15525789,\n",
       "        1.15141779,  1.14749669,  1.14349449,  1.13941107,  1.13524635,\n",
       "        1.13100025,  1.12667271,  1.12226367,  1.1177731 ,  1.11320096,\n",
       "        1.10854723,  1.10381192,  1.09899504,  1.09409659,  1.08911662,\n",
       "        1.08405518,  1.07891231,  1.07368809,  1.06838261,  1.06299595,\n",
       "        1.05752823,  1.05197957,  1.04635009,  1.04063995,  1.0348493 ,\n",
       "        1.02897831,  1.02302717,  1.01699607,  1.01088522,  1.00469484,\n",
       "        0.99842516,  0.99207643,  0.98564891,  0.97914286,  0.97255858,\n",
       "        0.96589635,  0.95915649,  0.95233931,  0.94544515,  0.93847435,\n",
       "        0.93142727,  0.92430429,  0.91710578,  0.90983213,  0.90248377,\n",
       "        0.89506109,  0.88756454,  0.87999456,  0.87235161,  0.86463614,\n",
       "        0.85684865,  0.84898963,  0.84105956,  0.83305899,  0.82498842,\n",
       "        0.8168484 ,  0.80863947,  0.80036221,  0.79201719,  0.78360498,\n",
       "        0.77512619,  0.76658143,  0.75797131,  0.74929647,  0.74055754,\n",
       "        0.73175519,  0.72289007,  0.71396286,  0.70497425,  0.69592493,\n",
       "        0.68681562,  0.67764702,  0.66841986,  0.6591349 ,  0.64979287,\n",
       "        0.64039454,  0.63094067,  0.62143205,  0.61186947,  0.60225372,\n",
       "        0.59258562,  0.58286599,  0.57309565,  0.56327545,  0.55340623,\n",
       "        0.54348885,  0.53352417,  0.52351308,  0.51345645,  0.50335519,\n",
       "        0.49321019,  0.48302236,  0.47279262,  0.46252191,  0.45221115,\n",
       "        0.4418613 ,  0.4314733 ,  0.42104811,  0.4105867 ,  0.40009005,\n",
       "        0.38955915,  0.37899497,  0.36839852,  0.35777081,  0.34711284,\n",
       "        0.33642564,  0.32571023,  0.31496764,  0.30419892,  0.2934051 ,\n",
       "        0.28258724,  0.27174639,  0.26088362,  0.25      ,  0.2390966 ,\n",
       "        0.2281745 ,  0.21723479,  0.20627856,  0.1953069 ,  0.18432091,\n",
       "        0.17332171,  0.16231039,  0.15128807,  0.14025588,  0.12921493,\n",
       "        0.11816635,  0.10711127,  0.09605083,  0.08498616,  0.0739184 ,\n",
       "        0.0628487 ,  0.05177821,  0.04070807,  0.02963945,  0.01857348,\n",
       "        0.00751134, -0.00354582, -0.01459683, -0.02564054, -0.03667577,\n",
       "       -0.04770136, -0.05871614, -0.06971893, -0.08070858, -0.09168389,\n",
       "       -0.10264371, -0.11358686, -0.12451216, -0.13541843, -0.14630451,\n",
       "       -0.15716922, -0.16801139, -0.17882983, -0.18962338, -0.20039086,\n",
       "       -0.21113111, -0.22184294, -0.23252519, -0.2431767 , -0.25379628,\n",
       "       -0.26438279, -0.27493505, -0.2854519 , -0.29593219, -0.30637475,\n",
       "       -0.31677843, -0.32714208, -0.33746455, -0.34774469, -0.35798136,\n",
       "       -0.36817343, -0.37831974, -0.38841918, -0.3984706 , -0.4084729 ,\n",
       "       -0.41842493, -0.4283256 , -0.43817378, -0.44796837, -0.45770827,\n",
       "       -0.46739237, -0.47701958, -0.48658882, -0.496099  , -0.50554905,\n",
       "       -0.51493789, -0.52426446, -0.53352769, -0.54272655, -0.55185997,\n",
       "       -0.56092691, -0.56992635, -0.57885725, -0.5877186 , -0.59650938,\n",
       "       -0.60522858, -0.6138752 , -0.62244826, -0.63094677, -0.63936974,\n",
       "       -0.64771622, -0.65598524, -0.66417585, -0.6722871 , -0.68031806,\n",
       "       -0.68826781, -0.69613542, -0.70391997, -0.71162059, -0.71923636,\n",
       "       -0.72676641, -0.73420986, -0.74156585, -0.74883353, -0.75601205,\n",
       "       -0.76310057, -0.77009828, -0.77700435, -0.78381799, -0.79053839,\n",
       "       -0.79716478, -0.80369637, -0.81013241, -0.81647215, -0.82271484,\n",
       "       -0.82885976, -0.83490618, -0.84085339, -0.8467007 , -0.85244743,\n",
       "       -0.8580929 , -0.86363645, -0.86907742, -0.87441518, -0.8796491 ,\n",
       "       -0.88477857, -0.88980297, -0.89472173, -0.89953427, -0.90424   ,\n",
       "       -0.90883839, -0.91332889, -0.91771097, -0.92198411, -0.92614782,\n",
       "       -0.93020159, -0.93414495, -0.93797743, -0.94169859, -0.94530798,\n",
       "       -0.94880518, -0.95218976, -0.95546134, -0.95861953, -0.96166394,\n",
       "       -0.96459423, -0.96741005, -0.97011105, -0.97269693, -0.97516737,\n",
       "       -0.97752208, -0.97976079, -0.98188323, -0.98388915, -0.9857783 ,\n",
       "       -0.98755047, -0.98920544, -0.99074303, -0.99216304, -0.99346531,\n",
       "       -0.99464968, -0.99571602, -0.99666419, -0.99749409, -0.99820562,\n",
       "       -0.99879868, -0.99927322, -0.99962917, -0.9998665 , -0.99998517,\n",
       "       -0.99998517, -0.9998665 , -0.99962917, -0.99927322, -0.99879868,\n",
       "       -0.99820562, -0.99749409, -0.99666419, -0.99571602, -0.99464968,\n",
       "       -0.99346531, -0.99216304, -0.99074303, -0.98920544, -0.98755047,\n",
       "       -0.9857783 , -0.98388915, -0.98188323, -0.97976079, -0.97752208,\n",
       "       -0.97516737, -0.97269693, -0.97011105, -0.96741005, -0.96459423,\n",
       "       -0.96166394, -0.95861953, -0.95546134, -0.95218976, -0.94880518,\n",
       "       -0.94530798, -0.94169859, -0.93797743, -0.93414495, -0.93020159,\n",
       "       -0.92614782, -0.92198411, -0.91771097, -0.91332889, -0.90883839,\n",
       "       -0.90424   , -0.89953427, -0.89472173, -0.88980297, -0.88477857,\n",
       "       -0.8796491 , -0.87441518, -0.86907742, -0.86363645, -0.8580929 ,\n",
       "       -0.85244743, -0.8467007 , -0.84085339, -0.83490618, -0.82885976,\n",
       "       -0.82271484, -0.81647215, -0.81013241, -0.80369637, -0.79716478,\n",
       "       -0.79053839, -0.78381799, -0.77700435, -0.77009828, -0.76310057,\n",
       "       -0.75601205, -0.74883353, -0.74156585, -0.73420986, -0.72676641,\n",
       "       -0.71923636, -0.71162059, -0.70391997, -0.69613542, -0.68826781,\n",
       "       -0.68031806, -0.6722871 , -0.66417585, -0.65598524, -0.64771622,\n",
       "       -0.63936974, -0.63094677, -0.62244826, -0.6138752 , -0.60522858,\n",
       "       -0.59650938, -0.5877186 , -0.57885725, -0.56992635, -0.56092691,\n",
       "       -0.55185997, -0.54272655, -0.53352769, -0.52426446, -0.51493789,\n",
       "       -0.50554905, -0.496099  , -0.48658882, -0.47701958, -0.46739237,\n",
       "       -0.45770827, -0.44796837, -0.43817378, -0.4283256 , -0.41842493,\n",
       "       -0.4084729 , -0.3984706 , -0.38841918, -0.37831974, -0.36817343,\n",
       "       -0.35798136, -0.34774469, -0.33746455, -0.32714208, -0.31677843,\n",
       "       -0.30637475, -0.29593219, -0.2854519 , -0.27493505, -0.26438279,\n",
       "       -0.25379628, -0.2431767 , -0.23252519, -0.22184294, -0.21113111,\n",
       "       -0.20039086, -0.18962338, -0.17882983, -0.16801139, -0.15716922,\n",
       "       -0.14630451, -0.13541843, -0.12451216, -0.11358686, -0.10264371,\n",
       "       -0.09168389, -0.08070858, -0.06971893, -0.05871614, -0.04770136,\n",
       "       -0.03667577, -0.02564054, -0.01459683, -0.00354582,  0.00751134,\n",
       "        0.01857348,  0.02963945,  0.04070807,  0.05177821,  0.0628487 ,\n",
       "        0.0739184 ,  0.08498616,  0.09605083,  0.10711127,  0.11816635,\n",
       "        0.12921493,  0.14025588,  0.15128807,  0.16231039,  0.17332171,\n",
       "        0.18432091,  0.1953069 ,  0.20627856,  0.21723479,  0.2281745 ,\n",
       "        0.2390966 ,  0.25      ,  0.26088362,  0.27174639,  0.28258724,\n",
       "        0.2934051 ,  0.30419892,  0.31496764,  0.32571023,  0.33642564,\n",
       "        0.34711284,  0.35777081,  0.36839852,  0.37899497,  0.38955915,\n",
       "        0.40009005,  0.4105867 ,  0.42104811,  0.4314733 ,  0.4418613 ,\n",
       "        0.45221115,  0.46252191,  0.47279262,  0.48302236,  0.49321019,\n",
       "        0.50335519,  0.51345645,  0.52351308,  0.53352417,  0.54348885,\n",
       "        0.55340623,  0.56327545,  0.57309565,  0.58286599,  0.59258562,\n",
       "        0.60225372,  0.61186947,  0.62143205,  0.63094067,  0.64039454,\n",
       "        0.64979287,  0.6591349 ,  0.66841986,  0.67764702,  0.68681562,\n",
       "        0.69592493,  0.70497425,  0.71396286,  0.72289007,  0.73175519,\n",
       "        0.74055754,  0.74929647,  0.75797131,  0.76658143,  0.77512619,\n",
       "        0.78360498,  0.79201719,  0.80036221,  0.80863947,  0.8168484 ,\n",
       "        0.82498842,  0.83305899,  0.84105956,  0.84898963,  0.85684865,\n",
       "        0.86463614,  0.87235161,  0.87999456,  0.88756454,  0.89506109,\n",
       "        0.90248377,  0.90983213,  0.91710578,  0.92430429,  0.93142727,\n",
       "        0.93847435,  0.94544515,  0.95233931,  0.95915649,  0.96589635,\n",
       "        0.97255858,  0.97914286,  0.98564891,  0.99207643,  0.99842516,\n",
       "        1.00469484,  1.01088522,  1.01699607,  1.02302717,  1.02897831,\n",
       "        1.0348493 ,  1.04063995,  1.04635009,  1.05197957,  1.05752823,\n",
       "        1.06299595,  1.06838261,  1.07368809,  1.07891231,  1.08405518,\n",
       "        1.08911662,  1.09409659,  1.09899504,  1.10381192,  1.10854723,\n",
       "        1.11320096,  1.1177731 ,  1.12226367,  1.12667271,  1.13100025,\n",
       "        1.13524635,  1.13941107,  1.14349449,  1.14749669,  1.15141779,\n",
       "        1.15525789,  1.15901712,  1.16269561,  1.16629352,  1.169811  ,\n",
       "        1.17324823,  1.17660539,  1.17988268,  1.1830803 ,  1.18619848,\n",
       "        1.18923745,  1.19219744,  1.1950787 ,  1.19788152,  1.20060615,\n",
       "        1.20325289,  1.20582203,  1.20831388,  1.21072876,  1.21306701,\n",
       "        1.21532896,  1.21751496,  1.21962537,  1.22166058,  1.22362095,\n",
       "        1.22550689,  1.2273188 ,  1.22905709,  1.23072218,  1.23231451,\n",
       "        1.23383452,  1.23528267,  1.23665941,  1.23796522,  1.23920058,\n",
       "        1.24036599,  1.24146193,  1.24248892,  1.24344748,  1.24433814,\n",
       "        1.24516143,  1.24591789,  1.24660808,  1.24723256,  1.2477919 ,\n",
       "        1.24828667,  1.24871747,  1.24908489,  1.24938953,  1.24963199,\n",
       "        1.2498129 ,  1.24993288,  1.24999257,  1.2499926 ,  1.24993361,\n",
       "        1.24981627,  1.24964123,  1.24940916,  1.24912073,  1.24877662,\n",
       "        1.24837752,  1.24792412,  1.24741713,  1.24685723,  1.24624515,\n",
       "        1.2455816 ,  1.24486731,  1.24410299,  1.24328938,  1.24242722,\n",
       "        1.24151724,  1.24056021,  1.23955686,  1.23850796,  1.23741426,\n",
       "        1.23627653,  1.23509553,  1.23387205,  1.23260686,  1.23130073,\n",
       "        1.22995445,  1.22856881,  1.2271446 ,  1.22568261,  1.22418363,\n",
       "        1.22264848,  1.22107794,  1.21947282,  1.21783393,  1.21616209,\n",
       "        1.21445808,  1.21272274,  1.21095687,  1.2091613 ,  1.20733683,\n",
       "        1.20548429,  1.20360449,  1.20169826,  1.19976642,  1.19780979,\n",
       "        1.19582919,  1.19382545,  1.19179939,  1.18975182,  1.18768359,\n",
       "        1.1855955 ,  1.18348839,  1.18136306,  1.17922035,  1.17706108,\n",
       "        1.17488606,  1.17269612,  1.17049207,  1.16827472,  1.16604489,\n",
       "        1.1638034 ,  1.16155105,  1.15928865,  1.15701701,  1.15473694,\n",
       "        1.15244923,  1.15015468,  1.1478541 ,  1.14554826,  1.14323798,\n",
       "        1.14092402,  1.13860719,  1.13628824,  1.13396798,  1.13164715,\n",
       "        1.12932655,  1.12700693,  1.12468905,  1.12237367,  1.12006155,\n",
       "        1.11775342,  1.11545004,  1.11315215,  1.11086047,  1.10857574,\n",
       "        1.10629868,  1.10403   ,  1.10177043,  1.09952066,  1.0972814 ,\n",
       "        1.09505334,  1.09283718,  1.0906336 ,  1.08844327,  1.08626687,\n",
       "        1.08410505,  1.08195849,  1.07982782,  1.0777137 ,  1.07561676,\n",
       "        1.07353764,  1.07147695,  1.06943531,  1.06741333,  1.06541162,\n",
       "        1.06343076,  1.06147135,  1.05953395,  1.05761915,  1.05572751,\n",
       "        1.05385957,  1.05201589,  1.050197  ,  1.04840344,  1.04663572,\n",
       "        1.04489436,  1.04317986,  1.04149272,  1.03983342,  1.03820244,\n",
       "        1.03660026,  1.03502732,  1.03348409,  1.031971  ,  1.03048848,\n",
       "        1.02903696,  1.02761685,  1.02622855,  1.02487246,  1.02354896,\n",
       "        1.02225843,  1.02100123,  1.01977772,  1.01858824,  1.01743313,\n",
       "        1.01631271,  1.01522729,  1.01417719,  1.01316269,  1.01218409,\n",
       "        1.01124164,  1.01033563,  1.0094663 ,  1.00863389,  1.00783865,\n",
       "        1.00708077,  1.00636049,  1.005678  ,  1.00503349,  1.00442714,\n",
       "        1.00385912,  1.00332959,  1.00283868,  1.00238655,  1.00197331,\n",
       "        1.00159909,  1.00126397,  1.00096806,  1.00071144,  1.00049418,\n",
       "        1.00031634,  1.00017797,  1.00007911,  1.00001978,  1.        ])"
      ]
     },
     "execution_count": 32,
     "metadata": {},
     "output_type": "execute_result"
    }
   ],
   "execution_count": 32
  },
  {
   "metadata": {
    "ExecuteTime": {
     "end_time": "2024-07-30T17:23:30.838118Z",
     "start_time": "2024-07-30T17:23:30.759820Z"
    }
   },
   "cell_type": "code",
   "source": [
    "plt.plot(x_values, y_values, label=f\"${sp.latex(expr)}$\")\n",
    "axes = plt.gca()\n",
    "plt.xlabel('x')\n",
    "plt.ylabel('f(x)')\n",
    "axes.tick_params(axis='both', which='major', labelsize=10)\n",
    "plt.legend()\n",
    "plt.show()"
   ],
   "id": "f8da9bfeaee0692c",
   "outputs": [
    {
     "data": {
      "text/plain": [
       "<Figure size 640x480 with 1 Axes>"
      ],
      "image/png": "[encoded data removed]"
     },
     "metadata": {},
     "output_type": "display_data"
    }
   ],
   "execution_count": 40
  },
  {
   "metadata": {
    "ExecuteTime": {
     "end_time": "2024-07-30T17:33:18.002528Z",
     "start_time": "2024-07-30T17:33:17.883573Z"
    }
   },
   "cell_type": "code",
   "source": [
    "fig, (ax1, ax2) = plt.subplots(nrows=2, ncols=1, sharex=\"all\", sharey=\"none\")\n",
    "\n",
    "ax1.plot(x_values, x_values, label='x')\n",
    "ax1.legend()\n",
    "ax1.tick_params(axis='both', which='major', labelsize=10)\n",
    "ax2.plot(x_values, y_values, label=f\"${sp.latex(expr)}$\")\n",
    "ax2.legend()\n",
    "ax2.tick_params(axis='both', which='major', labelsize=10)\n",
    "plt.legend()\n",
    "plt.show()"
   ],
   "id": "62e5d541e2581bf4",
   "outputs": [
    {
     "data": {
      "text/plain": [
       "<Figure size 640x480 with 2 Axes>"
      ],
      "image/png": "[encoded data removed]"
     },
     "metadata": {},
     "output_type": "display_data"
    }
   ],
   "execution_count": 57
  },
  {
   "metadata": {},
   "cell_type": "code",
   "outputs": [],
   "execution_count": null,
   "source": "",
   "id": "a83c1e023dfb0a80"
  }
 ],
 "metadata": {
  "kernelspec": {
   "display_name": "Python 3",
   "language": "python",
   "name": "python3"
  },
  "language_info": {
   "codemirror_mode": {
    "name": "ipython",
    "version": 2
   },
   "file_extension": ".py",
   "mimetype": "text/x-python",
   "name": "python",
   "nbconvert_exporter": "python",
   "pygments_lexer": "ipython2",
   "version": "2.7.6"
  }
 },
 "nbformat": 4,
 "nbformat_minor": 5
}
